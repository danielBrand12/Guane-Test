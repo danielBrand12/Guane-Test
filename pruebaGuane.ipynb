{
  "nbformat": 4,
  "nbformat_minor": 0,
  "metadata": {
    "colab": {
      "name": "pruebaGuane.ipynb",
      "provenance": [],
      "authorship_tag": "ABX9TyMOfr6NkeiFIC1EV17C+t3W",
      "include_colab_link": true
    },
    "kernelspec": {
      "name": "python3",
      "display_name": "Python 3"
    },
    "language_info": {
      "name": "python"
    }
  },
  "cells": [
    {
      "cell_type": "markdown",
      "metadata": {
        "id": "view-in-github",
        "colab_type": "text"
      },
      "source": [
        "<a href=\"https://colab.research.google.com/github/danielBrand12/Guane-Test/blob/main/pruebaGuane.ipynb\" target=\"_parent\"><img src=\"https://colab.research.google.com/assets/colab-badge.svg\" alt=\"Open In Colab\"/></a>"
      ]
    },
    {
      "cell_type": "markdown",
      "source": [
        "#Prueba para Guane Enterprises by Daniel Brand Taborda"
      ],
      "metadata": {
        "id": "7jqJMR_WwDEp"
      }
    },
    {
      "cell_type": "markdown",
      "source": [
        "#Stair Case"
      ],
      "metadata": {
        "id": "atnMlVpUIUN7"
      }
    },
    {
      "cell_type": "code",
      "source": [
        "def stairCase(n: int):\n",
        "  assert True if type(n) == int else False, \"Enter a integer!!!\"\n",
        "  assert True if 1<=n<=100 else False, \"Enter a number between 1 and 100\"\n",
        "\n",
        "  for i in range(n):\n",
        "    a = \" \"*(n-i-1)     #Crea un String vacío de n - i - 1 (-1 ya que i comienza por 0) para concatenarlo con los #\n",
        "    b = \"#\"*(i+1)       #Crea una cadena de #def sherlockAndAnagrams(s):\n",
        "    c = a + b           #Concatena los espacios vacíos con los # para alinearlos a la derecha\n",
        "    print(c)            #Imprime la cadena\n",
        "\n",
        "\"\"\"\n",
        "  for i in range(1, n + 1):\n",
        "    print((\"#\" * i).rjust(n+60))\n",
        "\"\"\"\n",
        "\n",
        "stairCase(6)"
      ],
      "metadata": {
        "colab": {
          "base_uri": "https://localhost:8080/"
        },
        "id": "JbBCRgPtwHMY",
        "outputId": "a663fc03-ba58-49b9-cca8-cb6b4432c5f6"
      },
      "execution_count": 55,
      "outputs": [
        {
          "output_type": "stream",
          "name": "stdout",
          "text": [
            "     #\n",
            "    ##\n",
            "   ###\n",
            "  ####\n",
            " #####\n",
            "######\n"
          ]
        }
      ]
    },
    {
      "cell_type": "markdown",
      "source": [
        "#Sherlock and Anagrams"
      ],
      "metadata": {
        "id": "LaXnyFF2xzJV"
      }
    },
    {
      "cell_type": "code",
      "source": [
        "def sherlockAndAnagrams(s: str):\n",
        "  assert True if type(s) == str else False, \"Enter a string!!!\"\n",
        "  assert True if 2<=len(s)<=100 else False, \"Enter a correct string!!!\"\n",
        "\n",
        "  s = s.lower()\n",
        "  cont = 0\n",
        "\n",
        "  for i in range(1,len(s)):                     #Estos primeros 2 for separan la cadena s en las i subcadenas pertenecientes a s\n",
        "    l = list()                                  #Las i subcadenas se guardan en una lista para compararlas posteriormente\n",
        "    for j in range(len(s)-i+1):                 #Este for se encarga de hacer la separación de las cadenas dado el i \n",
        "      l.append(s[j:i+j])                        #Slice de la cadena en las i subcadenas\n",
        "    #print(l)\n",
        "\n",
        "    for i in range(len(l)):                     #For para comparar elemento a elemento las i subcadenas de la lista l\n",
        "      for j in range(i + 1, len(l)):\n",
        "          #print(l[i], l[j])\n",
        "          if(sorted(l[i]) == sorted(l[j])):     #Si las i subcadenas contienen las mismas letras entonces aumenta 1 al contador\n",
        "            #print(l[i], l[j])\n",
        "            cont += 1\n",
        "  print(cont) \n",
        "\n",
        "sherlockAndAnagrams(\"mom\")\n",
        "sherlockAndAnagrams(\"Ifailuhkqq\")\n",
        "sherlockAndAnagrams(\"kkkk\")\n",
        "#sherlockAndAnagrams(2)"
      ],
      "metadata": {
        "colab": {
          "base_uri": "https://localhost:8080/"
        },
        "id": "U2cQrUpFxyko",
        "outputId": "76a75909-e409-4d12-d49d-479028c9a3fb"
      },
      "execution_count": 104,
      "outputs": [
        {
          "output_type": "stream",
          "name": "stdout",
          "text": [
            "2\n",
            "3\n",
            "10\n"
          ]
        }
      ]
    },
    {
      "cell_type": "markdown",
      "source": [
        "#Short Palindrome\n"
      ],
      "metadata": {
        "id": "P4GWnsQCIqsy"
      }
    },
    {
      "cell_type": "code",
      "source": [
        "def shortPalindrome(s: str):\n",
        "  assert True if type(s) == str else False, \"Enter a string!!!\"\n",
        "  assert True if 1<=len(s)<=(10**6) else False, \"Enter a correct string!!!\"\n",
        "\n",
        "  s = s.lower()     \n",
        "\n",
        "  cont = 0\n",
        "  n = len(s)\n",
        "  for i in range(n):                                  #Fors anidados que entregan exactamente la cantidad necesaria de tuplas que cumplen la condición\n",
        "    for j in range(i+1,n):                            #(a,b,c,d) a<b<c<d\n",
        "      for k in range(j+1,n):                          #Cada tupla se revisa si es palíndromo checkando si S[a]==S[d] y S[b]==S[c]\n",
        "        for y in range(k+1,n):\n",
        "          a = (i,j,k,y)\n",
        "          #print(a)\n",
        "          if (s[i] == s[y]) and (s[k] == s[j]):\n",
        "            cont += 1\n",
        "  print(cont%((10**9)+7))\n",
        "\n",
        "shortPalindrome(\"kkkkkkz\")\n",
        "shortPalindrome(\"ghhggh\")\n",
        "shortPalindrome(\"akakak\")"
      ],
      "metadata": {
        "colab": {
          "base_uri": "https://localhost:8080/"
        },
        "id": "MMnEQvxEPTJY",
        "outputId": "4fa94859-f970-4b96-fb48-d7d9fff47cdb"
      },
      "execution_count": 110,
      "outputs": [
        {
          "output_type": "stream",
          "name": "stdout",
          "text": [
            "15\n",
            "4\n",
            "2\n"
          ]
        }
      ]
    }
  ]
}