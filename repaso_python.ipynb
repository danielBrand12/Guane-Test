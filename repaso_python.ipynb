{
  "nbformat": 4,
  "nbformat_minor": 0,
  "metadata": {
    "colab": {
      "name": "repaso python.ipynb",
      "provenance": [],
      "authorship_tag": "ABX9TyMP4aO1fSilspnOmoyIOIh5",
      "include_colab_link": true
    },
    "kernelspec": {
      "name": "python3",
      "display_name": "Python 3"
    },
    "language_info": {
      "name": "python"
    }
  },
  "cells": [
    {
      "cell_type": "markdown",
      "metadata": {
        "id": "view-in-github",
        "colab_type": "text"
      },
      "source": [
        "<a href=\"https://colab.research.google.com/github/danielBrand12/Hacker-Rank-Excersices/blob/main/repaso_python.ipynb\" target=\"_parent\"><img src=\"https://colab.research.google.com/assets/colab-badge.svg\" alt=\"Open In Colab\"/></a>"
      ]
    },
    {
      "cell_type": "markdown",
      "source": [
        "#Time delta\n",
        "https://www.hackerrank.com/challenges/python-time-delta/problem"
      ],
      "metadata": {
        "id": "Q12ArtXBmsiR"
      }
    },
    {
      "cell_type": "code",
      "execution_count": null,
      "metadata": {
        "colab": {
          "base_uri": "https://localhost:8080/"
        },
        "id": "lRxpb-TwCuvt",
        "outputId": "c82bd7f7-9b2b-4940-fbff-56e23cfff16a"
      },
      "outputs": [
        {
          "output_type": "stream",
          "name": "stdout",
          "text": [
            "1\n",
            "Sat 02 May 2015 19:54:36 +0530\n",
            "Fri 01 May 2015 13:54:36 -0000\n",
            "88200\n",
            "\n"
          ]
        }
      ],
      "source": [
        "import math\n",
        "import os\n",
        "import random\n",
        "import re\n",
        "import sys\n",
        "from datetime import datetime\n",
        "\n",
        "# Complete the time_delta function below.\n",
        "def time_delta(t1: str, t2: str) -> str:\n",
        "\n",
        "  t1 = datetime.strptime(t1, \"%a %d %b %Y %H:%M:%S %z\")\n",
        "  t2 = datetime.strptime(t2, \"%a %d %b %Y %H:%M:%S %z\")\n",
        "  \n",
        "  if (t1.year > 3000) or (t2.year > 3000):\n",
        "      raise Exception(\"Sorry, no years above 3000\") \n",
        "\n",
        "  return(str(int(abs((t1-t2).total_seconds()))))\n",
        "\n",
        "\n",
        "if __name__ == '__main__':\n",
        "\n",
        "  t = int(input())\n",
        "\n",
        "  for t_itr in range(t):\n",
        "      t1 = input()\n",
        "\n",
        "      t2 = input()\n",
        "\n",
        "      delta = time_delta(t1, t2)\n",
        "\n",
        "      print(delta + '\\n')\n",
        "\n"
      ]
    },
    {
      "cell_type": "code",
      "source": [
        "from itertools import product\n",
        "\n",
        "a = [1,2,3]\n",
        "b = [4,5]\n",
        "c = [6,7,8]\n",
        "\n",
        "list(product(a,b,c))"
      ],
      "metadata": {
        "colab": {
          "base_uri": "https://localhost:8080/"
        },
        "id": "1XBM18lWjgWB",
        "outputId": "ba45223c-0b08-4d08-b962-4cbf9008a825"
      },
      "execution_count": null,
      "outputs": [
        {
          "output_type": "execute_result",
          "data": {
            "text/plain": [
              "[(1, 4, 6),\n",
              " (1, 4, 7),\n",
              " (1, 4, 8),\n",
              " (1, 5, 6),\n",
              " (1, 5, 7),\n",
              " (1, 5, 8),\n",
              " (2, 4, 6),\n",
              " (2, 4, 7),\n",
              " (2, 4, 8),\n",
              " (2, 5, 6),\n",
              " (2, 5, 7),\n",
              " (2, 5, 8),\n",
              " (3, 4, 6),\n",
              " (3, 4, 7),\n",
              " (3, 4, 8),\n",
              " (3, 5, 6),\n",
              " (3, 5, 7),\n",
              " (3, 5, 8)]"
            ]
          },
          "metadata": {},
          "execution_count": 19
        }
      ]
    },
    {
      "cell_type": "markdown",
      "source": [
        "#Maximize it\n",
        "https://www.hackerrank.com/challenges/maximize-it/problem"
      ],
      "metadata": {
        "id": "CeKwAvLUr4_U"
      }
    },
    {
      "cell_type": "code",
      "source": [
        "from itertools import product\n",
        "\n",
        "funcion_de_entrada = lambda x: x**2\n",
        "entrada = input()\n",
        "cantidad_listas, modulo = entrada.split()                              \n",
        "cantidad_listas = int(cantidad_listas)\n",
        "modulo = int(modulo)\n",
        "\n",
        "listas = list()\n",
        "\n",
        "for i in range(cantidad_listas):                                  #For para crear las listas\n",
        "    entrada = input()\n",
        "    sub_lista = entrada.split()[1:]                 #El primer elemento es el tamaño de la lista\n",
        "    sub_lista = list(map(int, sub_lista))\n",
        "    if len(sub_lista) == int(entrada.split()[0]):\n",
        "        listas.append(sub_lista)\n",
        "    else:\n",
        "        print(\"tamaño incorrecto\")\n",
        "\n",
        "max = 0\n",
        "productos = list(product(*listas))                  # *list desempaqueta los elementos de una lista\n",
        "#print(productos)\n",
        "\n",
        "for p in productos:\n",
        "  new_max = sum(list(map(funcion_de_entrada,p))) % modulo\n",
        "  if new_max > max: max = new_max\n",
        "\n",
        "print(max)"
      ],
      "metadata": {
        "colab": {
          "base_uri": "https://localhost:8080/"
        },
        "id": "hDpHUVsjj-6C",
        "outputId": "51a90415-0cf0-4199-a1f9-ef1589ee31ed"
      },
      "execution_count": null,
      "outputs": [
        {
          "output_type": "stream",
          "name": "stdout",
          "text": [
            "3 1000\n",
            "2 5 4\n",
            "3 7 8 9 \n",
            "5 5 7 8 9 10 \n",
            "206\n"
          ]
        }
      ]
    },
    {
      "cell_type": "code",
      "source": [
        "a = 'a'\n",
        "a.isupper()"
      ],
      "metadata": {
        "colab": {
          "base_uri": "https://localhost:8080/"
        },
        "id": "kmzmdbcsDkD5",
        "outputId": "178ec5d8-7aa2-413b-820b-89e66b6bf56f"
      },
      "execution_count": null,
      "outputs": [
        {
          "output_type": "execute_result",
          "data": {
            "text/plain": [
              "False"
            ]
          },
          "metadata": {},
          "execution_count": 42
        }
      ]
    },
    {
      "cell_type": "markdown",
      "source": [
        "#Class 1 dealing with complex numbers\n",
        "https://www.hackerrank.com/challenges/class-1-dealing-with-complex-numbers/problem"
      ],
      "metadata": {
        "id": "tXfp6Qp2nNCY"
      }
    },
    {
      "cell_type": "code",
      "source": [
        "import math\n",
        "\n",
        "class Complex(object):\n",
        "    def __init__(self, real, imaginary):\n",
        "        self.real = real\n",
        "        self.imaginary = imaginary\n",
        "\n",
        "    def __add__(self, no):\n",
        "        a = self.real + no.real\n",
        "        b = self.imaginary + no.imaginary \n",
        "        return Complex(a,b)\n",
        "        \n",
        "    def __sub__(self, no):\n",
        "        a = self.real - no.real\n",
        "        b = self.imaginary - no.imaginary\n",
        "        return Complex(a,b) \n",
        "        \n",
        "    def __mul__(self, no):\n",
        "        a = self.real * no.real - self.imaginary * no.imaginary \n",
        "        b = self.real * no.imaginary + self.imaginary * no.real \n",
        "        return Complex(a,b)\n",
        "\n",
        "    def __truediv__(self, no):\n",
        "        conjugation = Complex(no.real, -no.imaginary)\n",
        "        denominatorRes = no * conjugation\n",
        "        # denominator has only real part\n",
        "        denominator = denominatorRes.real\n",
        "        nominator = self * conjugation\n",
        "        return Complex(nominator.real/denominator, nominator.imaginary/denominator)      \n",
        "\n",
        "    def mod(self):\n",
        "        modulo = math.sqrt((self.real**2)+(self.imaginary**2))\n",
        "        return Complex(modulo,0)\n",
        "    def __str__(self):\n",
        "        if self.imaginary == 0:\n",
        "            result = \"%.2f+0.00i\" % (self.real)\n",
        "        elif self.real == 0:\n",
        "            if self.imaginary >= 0:\n",
        "                result = \"0.00+%.2fi\" % (self.imaginary)\n",
        "            else:\n",
        "                result = \"0.00-%.2fi\" % (abs(self.imaginary))\n",
        "        elif self.imaginary > 0:\n",
        "            result = \"%.2f+%.2fi\" % (self.real, self.imaginary)\n",
        "        else:\n",
        "            result = \"%.2f-%.2fi\" % (self.real, abs(self.imaginary))\n",
        "        return result\n",
        "\n",
        "if __name__ == '__main__':\n",
        "    c = map(float, input().split())\n",
        "    d = map(float, input().split())\n",
        "    x = Complex(*c)\n",
        "    y = Complex(*d)\n",
        "    print(*map(str, [x+y, x-y, x*y, x/y, x.mod(), y.mod()]), sep='\\n')"
      ],
      "metadata": {
        "colab": {
          "base_uri": "https://localhost:8080/"
        },
        "id": "VqOts3vZKIg0",
        "outputId": "5837980d-ab40-4c69-dff3-d7b26067dd38"
      },
      "execution_count": null,
      "outputs": [
        {
          "output_type": "stream",
          "name": "stdout",
          "text": [
            "15\n",
            "4\n",
            "2\n"
          ]
        }
      ]
    },
    {
      "cell_type": "markdown",
      "source": [
        "#Exceptions\n",
        "https://www.hackerrank.com/challenges/exceptions/problem"
      ],
      "metadata": {
        "id": "2jfJ09ABotZ_"
      }
    },
    {
      "cell_type": "code",
      "source": [
        "repeticiones = int(input())\n",
        "for i in range(repeticiones):\n",
        "    try:\n",
        "        entrada = input()\n",
        "        enteros = entrada.split()\n",
        "        division = int(b[0])//int(b[1]) \n",
        "        print(division)\n",
        "    except ZeroDivisionError:\n",
        "        print (\"Error Code: integer division or modulo by zero\")\n",
        "    except ValueError:\n",
        "        print (\"Error Code: invalid literal for int() with base 10: '$'\")"
      ],
      "metadata": {
        "id": "5m6YHi_eNLbF"
      },
      "execution_count": null,
      "outputs": []
    },
    {
      "cell_type": "markdown",
      "source": [
        "#XML 1 - Find the score\n",
        "https://www.hackerrank.com/challenges/xml-1-find-the-score/problem"
      ],
      "metadata": {
        "id": "aDeQfzBOo7Rk"
      }
    },
    {
      "cell_type": "code",
      "source": [
        "import sys\n",
        "import xml.etree.ElementTree as etree\n",
        "\n",
        "def get_attr_number(node):\n",
        "    print(etree.tostring(node).count(b'='))\n",
        "    \n",
        "if __name__ == '__main__':\n",
        "    sys.stdin.readline()\n",
        "    xml = sys.stdin.read()\n",
        "    tree = etree.ElementTree(etree.fromstring(xml))\n",
        "    root = tree.getroot()\n",
        "    print(get_attr_number(root))"
      ],
      "metadata": {
        "id": "xyQZJV4zNNrl"
      },
      "execution_count": null,
      "outputs": []
    },
    {
      "cell_type": "markdown",
      "source": [
        "#The minion game\n",
        "https://www.hackerrank.com/challenges/the-minion-game/problem"
      ],
      "metadata": {
        "id": "PPtk1qc4mFkz"
      }
    },
    {
      "cell_type": "code",
      "source": [
        "def minion_game(string):\n",
        "    # your code goes here\n",
        "\n",
        "    string = string.upper()\n",
        "    kevin_words = dict()\n",
        "    stuart_words = dict()\n",
        "    \n",
        "    for i in range(len(string)):\n",
        "        if string[i] in \"AEIOU\":        #For Kevin\n",
        "            for j in range(i+1,len(string)+1):\n",
        "                if string[i:j] not in kevin_words.keys():\n",
        "                    kevin_words[string[i:j]] = 1\n",
        "                else:\n",
        "                    kevin_words[string[i:j]] += 1\n",
        "        else:                           #For Stuart\n",
        "            for j in range(i+1,len(string)+1):\n",
        "                if string[i:j] not in stuart_words.keys():\n",
        "                    stuart_words[string[i:j]] = 1\n",
        "                else:\n",
        "                    stuart_words[string[i:j]] += 1\n",
        "    \n",
        "    total_words_kevin = sum(kevin_words.values())\n",
        "    total_words_stuart = sum(stuart_words.values())\n",
        "    \n",
        "    if total_words_kevin == total_words_stuart:\n",
        "        print(\"Draw\")\n",
        "    elif total_words_kevin > total_words_stuart:\n",
        "        print(\"Kevin\", total_words_kevin)\n",
        "    else:\n",
        "        print(\"Stuart\", total_words_stuart)\n",
        "  \n",
        "\n",
        "if __name__ == '__main__':\n",
        "    s = input()\n",
        "    minion_game(s)"
      ],
      "metadata": {
        "id": "5NrEZDMDmFJc"
      },
      "execution_count": null,
      "outputs": []
    },
    {
      "cell_type": "markdown",
      "source": [
        "#The merge tools\n",
        "https://www.hackerrank.com/challenges/merge-the-tools/problem"
      ],
      "metadata": {
        "id": "R5s-RwghmPdO"
      }
    },
    {
      "cell_type": "code",
      "source": [
        "def merge_the_tools(string, tamano_sub_string):\n",
        "    # your code goes here\n",
        "    #cantidad_sub_strings = len(string)//tamano_sub_string\n",
        "    for i in range(0,len(string),tamano_sub_string):\n",
        "        #print(i)\n",
        "        sub_string = string[i]\n",
        "        for j in range(i+1,i+tamano_sub_string):\n",
        "            #print(\"j\",j)\n",
        "            if string[j] not in sub_string:\n",
        "                sub_string += string[j]\n",
        "        print(sub_string)\n",
        "\n",
        "if __name__ == '__main__':\n",
        "    string, k = input(), int(input())\n",
        "    merge_the_tools(string, k)"
      ],
      "metadata": {
        "id": "sX8QzPhxmU-N"
      },
      "execution_count": null,
      "outputs": []
    },
    {
      "cell_type": "markdown",
      "source": [
        "#ginortS\n",
        "https://www.hackerrank.com/challenges/ginorts/problem"
      ],
      "metadata": {
        "id": "_VsvRPeWnmwt"
      }
    },
    {
      "cell_type": "code",
      "source": [
        "s = input()\n",
        "lowers = list()\n",
        "uppers = list()\n",
        "odds = list()\n",
        "evens = list()\n",
        "\n",
        "for i in range(len(s)):\n",
        "    if s[i].islower(): lowers.append(s[i])\n",
        "    elif s[i].isupper(): uppers.append(s[i])\n",
        "    elif int(s[i])%2 == 0: evens.append(s[i])\n",
        "    else: odds.append(s[i])\n",
        "    \n",
        "result = sorted(lowers) + sorted(uppers) + sorted(odds) + sorted(evens)\n",
        "result = ''.join(result)\n",
        "print(result)\n"
      ],
      "metadata": {
        "id": "2Hisw5tHnq4i"
      },
      "execution_count": null,
      "outputs": []
    },
    {
      "cell_type": "markdown",
      "source": [
        "#Reduce function\n",
        "https://www.hackerrank.com/challenges/reduce-function/problem"
      ],
      "metadata": {
        "id": "UBZmC59VoXnn"
      }
    },
    {
      "cell_type": "code",
      "source": [
        "from fractions import Fraction\n",
        "from functools import reduce\n",
        "\n",
        "def product(fracs):\n",
        "    fraccion = Fraction(reduce(lambda x,y: x*y,fracs))\n",
        "    return fraccion.numerator, fraccion.denominator\n",
        "\n",
        "if __name__ == '__main__':\n",
        "    fracs = []\n",
        "    for _ in range(int(input())):\n",
        "        fracs.append(Fraction(*map(int, input().split())))\n",
        "    result = product(fracs)\n",
        "    print(*result)"
      ],
      "metadata": {
        "id": "hZL3lWzEoYCF"
      },
      "execution_count": null,
      "outputs": []
    }
  ]
}